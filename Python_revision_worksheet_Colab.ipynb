{
  "cells": [
    {
      "cell_type": "markdown",
      "metadata": {
        "id": "view-in-github",
        "colab_type": "text"
      },
      "source": [
        "<a href=\"https://colab.research.google.com/github/Mouni9227/Python_worksheet1/blob/main/Python_revision_worksheet_Colab.ipynb\" target=\"_parent\"><img src=\"https://colab.research.google.com/assets/colab-badge.svg\" alt=\"Open In Colab\"/></a>"
      ]
    },
    {
      "cell_type": "code",
      "source": [
        "#volume of cylinder\n",
        "from math import pi\n",
        "\n",
        "def main():\n",
        "    r=int(input(\"Enter the radius of the cylinder: \"))\n",
        "    h=int(input(\"Enter the height of the cylinder: \"))\n",
        "    v=(pi*r**2)*h\n",
        "    print(f'The volume of the cylinder is: ',round(v,2))\n",
        "\n",
        "if __name__ == \"__main__\":\n",
        "    main()"
      ],
      "metadata": {
        "id": "6dyBXPcLI0jW"
      },
      "execution_count": null,
      "outputs": []
    },
    {
      "cell_type": "code",
      "source": [
        "#hypotenuse of right angled triangle\n",
        "from math import sqrt\n",
        "\n",
        "def main():\n",
        "    a=int(input(\"Enter the side1 of right angled triangle: \"))\n",
        "    b=int(input(\"Enter the side2 of the right angled triangle: \"))\n",
        "    # c=sqrt(a**2+b**2) #by importing sqrt\n",
        "    c=int((a**2+b**2)**0.5)\n",
        "    print(f'The hypotenuse of right angled triangle is: ',c)\n",
        "\n",
        "if __name__ == \"__main__\":\n",
        "    main()"
      ],
      "metadata": {
        "id": "xQ-mWU4EJVCh"
      },
      "execution_count": null,
      "outputs": []
    },
    {
      "cell_type": "code",
      "source": [
        "#The median calculation\n",
        "from statistics import median\n",
        "\n",
        "def main():\n",
        "    val1=int(input(\"Enter first number: \"))\n",
        "    val2=int(input(\"Enter second number: \"))\n",
        "    val3=int(input(\"Enter third number: \"))\n",
        "    l=[val1,val2,val3]\n",
        "    print(f'The median of {val1},{val2},{val3} is : ',median(l))#getting median from built-in function\n",
        "# we can get the median by sorting the list and getting the middle number without importing median from stats\n",
        "#     l.sort()\n",
        "#     m=l[len(l)//2]\n",
        "#     print(f'The median is',m)\n",
        "\n",
        "\n",
        "if __name__ == \"__main__\":\n",
        "    main()"
      ],
      "metadata": {
        "id": "YOSCuaehJyhO"
      },
      "execution_count": null,
      "outputs": []
    },
    {
      "cell_type": "code",
      "source": [
        "#check prime or composite\n",
        "def main():\n",
        "    n = int(input(\"Enter a number: \"))\n",
        "    if n == 1:\n",
        "        print(\"Given number is neither a prime nor a composite\")\n",
        "        return\n",
        "    elif n == 2:\n",
        "        print(\"2 is a prime number.\")\n",
        "        return\n",
        "    elif n <= 0:\n",
        "        print(\"Please enter a non-zero , non_negative number\")\n",
        "        return\n",
        "    else:\n",
        "        for i in range(2,n):\n",
        "            if n%i ==0:\n",
        "                print(\"It is a composite number.\")\n",
        "                return\n",
        "        print(\"It is a prime number\")\n",
        "\n",
        "if __name__ == \"__main__\":\n",
        "    main()\n",
        "\n",
        "\n",
        "# def check_prime(n):\n",
        "#     for i in range(2,n):\n",
        "#         if n%i ==0:\n",
        "#             return False\n",
        "#     return True\n",
        "#\n",
        "# def main():\n",
        "#     n = int(input(\"Enter a number: \"))\n",
        "#     if n==1:\n",
        "#         print(\"Given number is neither a prime nor a composite\")\n",
        "#     elif n<=0:\n",
        "#         print(\"Please enter a non-zero , non_negative number\")\n",
        "#     else:\n",
        "#         print(f'{n} is a prime number',check_prime(n))\n",
        "#\n",
        "# if __name__ == \"__main__\":\n",
        "#     main()"
      ],
      "metadata": {
        "id": "Ea3D5-HbJ5Vv"
      },
      "execution_count": null,
      "outputs": []
    },
    {
      "cell_type": "code",
      "source": [
        "#wavelength and corresponding VIBGYOR color\n",
        "def get_color(w):\n",
        "    if w<380 or w>750:\n",
        "        return \"Other than VIBGYOR color range,Please enter a wavelength in the range of 380nm to 750nm\"\n",
        "    elif w<450:\n",
        "        return \"Violet\"\n",
        "    elif w<495:\n",
        "        return \"Blue\"\n",
        "    elif w<570:\n",
        "        return \"Green\"\n",
        "    elif w<590:\n",
        "        return \"Yellow\"\n",
        "    elif w<620:\n",
        "        return \"Orange\"\n",
        "    else:\n",
        "        return \"Red\"\n",
        "\n",
        "def main():\n",
        "    w=int(input(\"Enter a wavelength in nm: \"))\n",
        "    print(f'The wavelength {w}nm comes under',get_color(w),'color of the EM spectrum ')\n",
        "\n",
        "if __name__ ==\"__main__\":\n",
        "    main()"
      ],
      "metadata": {
        "id": "kSHwZkBvKDE1"
      },
      "execution_count": null,
      "outputs": []
    },
    {
      "cell_type": "code",
      "source": [
        "#math operations\n",
        "from termios import INPCK\n",
        "def math_operations(n1,n2):\n",
        "    addition = n1 + n2\n",
        "    product = n1 * n2\n",
        "    difference = n1 - n2\n",
        "    quotient = n1 / n2\n",
        "    remainder = n1 % n2\n",
        "    print(f'The sum of {n1} and {n2}        = ',addition)\n",
        "    print(f'The product of {n1} and {n2}    = ',product)\n",
        "    print(f'The difference of {n1} and {n2} = ',difference)\n",
        "    print(f'The quotient of {n1} and {n2}   = ',quotient)\n",
        "    print(f'The remainder of  {n1} and {n2} = ',remainder)\n",
        "\n",
        "def main():\n",
        "    n1=int(input(\"Enter a number 1: \"))\n",
        "    n2=int(input(\"Enter a number 2: \"))\n",
        "    print(math_operations(n1,n2))\n",
        "\n",
        "if __name__ == \"__main__\":\n",
        "    main()"
      ],
      "metadata": {
        "id": "KARulxx8KKHR"
      },
      "execution_count": null,
      "outputs": []
    },
    {
      "cell_type": "code",
      "source": [
        "#cube & square\n",
        "def main():\n",
        "    n=int(input(\"Enter a number: \"))\n",
        "    cube=n**3\n",
        "    square=n**2\n",
        "    print(f'The cube of {n}   =',cube)\n",
        "    print(f'The square of {n} =',square)\n",
        "if __name__ == \"__main__\":\n",
        "    main()"
      ],
      "metadata": {
        "id": "f63wWeHIKeLd"
      },
      "execution_count": null,
      "outputs": []
    },
    {
      "cell_type": "code",
      "source": [
        "#indefinite articles\n",
        "def main():\n",
        "    word=input(\"Enter a word(noun): \")\n",
        "    word=word.lower()  #lowered the case to avoid case-sensitive errors\n",
        "    word=word.split()  #removing leading white spaces if incase my user provides a string starts with space\n",
        "\n",
        "    if any(char.isdigit() for char in word): #erroe check if user provides numbers\n",
        "        print(\"Invalid! Please enter only non numeric strings.\")\n",
        "        return\n",
        "\n",
        "    vowel='aeiou' #assigned vowels to a variable\n",
        "    if word[0] in vowel: #sliced starting index position to check the vowels\n",
        "        print(\"The indefinite article should be 'An'\")\n",
        "    else:\n",
        "        print(\"The indefinite article should be 'a'\")\n",
        "\n",
        "if __name__ == \"__main__\":\n",
        "    main()"
      ],
      "metadata": {
        "id": "0dwOeEsJKiPP"
      },
      "execution_count": null,
      "outputs": []
    },
    {
      "cell_type": "code",
      "source": [
        "#check triangle formed or not using triangle inequality law\n",
        "def main():\n",
        "    a=int(input(\"Enter the side 1 of triangle: \"))\n",
        "    b=int(input(\"Enter the side 2 of triangle: \"))\n",
        "    c=int(input(\"Enter the side 3 of triangle: \"))\n",
        "\n",
        "    if a<=0 or b<=0 or c<0: #error check\n",
        "        print(\"Invalid! Please provide non_zero , non-negative numbers\")\n",
        "        return\n",
        "\n",
        "    if a+b>c and b+c>a and c+a>b:#triangle inequality law\n",
        "        if a==b==c:\n",
        "            print(\"The given sides will form Equilateral Triangle\")\n",
        "        elif a==b!=c or b==c!=a or c==a!=b:\n",
        "            print(\"the given sides will form Isosceles Triangle\")\n",
        "        elif a!=b!=c or b!=c!=a or c!=a!=b:\n",
        "            print(\"the given sides will form Scalene Triangle\")\n",
        "    else:\n",
        "        print(\"Sorry, can't form a triangle with given values. HINT:'Triangle inequality law'\")\n",
        "\n",
        "if __name__ == \"__main__\":\n",
        "    main()"
      ],
      "metadata": {
        "id": "WFvKkVpzKkKs"
      },
      "execution_count": null,
      "outputs": []
    },
    {
      "cell_type": "code",
      "source": [
        "#replace character\n",
        "def main():\n",
        "    string=input(\"Enter two words separated by comma: \")\n",
        "\n",
        "    if ',' not in string:#error check if user not provides comma\n",
        "        print(\"Error : Please enter comma separated words \")\n",
        "        return\n",
        "    if any(char.isdigit() for char in string): #error check if user provides numerical strings\n",
        "        print(\"Invalid! Please enter only non numeric strings.\")\n",
        "        return\n",
        "\n",
        "    char=input(\"Enter a character you want to replace: \")\n",
        "    new_char=input(\"Enter a new character: \")\n",
        "    new_char=new_char.center(5) # center justification done to get good visualization of modified string\n",
        "    print(f'The modified string is',string.replace(char, new_char))\n",
        "\n",
        "if __name__ == \"__main__\":\n",
        "    main()"
      ],
      "metadata": {
        "id": "UTd-lk3XKvi3"
      },
      "execution_count": null,
      "outputs": []
    }
  ],
  "metadata": {
    "colab": {
      "name": "Welcome To Colab",
      "toc_visible": true,
      "provenance": [],
      "include_colab_link": true
    },
    "kernelspec": {
      "display_name": "Python 3",
      "name": "python3"
    }
  },
  "nbformat": 4,
  "nbformat_minor": 0
}